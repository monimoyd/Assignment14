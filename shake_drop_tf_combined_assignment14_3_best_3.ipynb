{
  "nbformat": 4,
  "nbformat_minor": 0,
  "metadata": {
    "colab": {
      "name": "shake_drop_tf_combined_assignment14_3_best_3.ipynb",
      "version": "0.3.2",
      "provenance": [],
      "collapsed_sections": [],
      "include_colab_link": true
    },
    "kernelspec": {
      "name": "python3",
      "display_name": "Python 3"
    },
    "accelerator": "GPU"
  },
  "cells": [
    {
      "cell_type": "markdown",
      "metadata": {
        "id": "view-in-github",
        "colab_type": "text"
      },
      "source": [
        "<a href=\"https://colab.research.google.com/github/monimoyd/Assignment14/blob/master/shake_drop_tf_combined_assignment14_3_best_3.ipynb\" target=\"_parent\"><img src=\"https://colab.research.google.com/assets/colab-badge.svg\" alt=\"Open In Colab\"/></a>"
      ]
    },
    {
      "cell_type": "markdown",
      "metadata": {
        "id": "vscC8X_botst",
        "colab_type": "text"
      },
      "source": [
        "# Assignment: 14\n",
        "\n",
        "## Submitters:\n",
        "\n",
        "Monimoy Deb Purkayatha (monimoyd@gmail.com)\n",
        "Kartheek Kanagala (kanagala.k@gmail.com)\n",
        "Krisna Gorrepati (krishnagorrepati@gmail.com)\n",
        "Chaitali Deb Purkayastha (chaitalidebp@gmail.com)\n",
        "Vikas Kumar Sharma(vikas.reply@gmail.com)\n",
        "\n",
        "## Objective:\n",
        "\n",
        "\n",
        "In this assignment:\n",
        "\n",
        "i. We have to run training on CIFAR-10 dataset and achieve accuracy of 94%\n",
        "ii. Training should be done in 100 seconds\n",
        "iii. Need to train on V100 machine\n",
        "\n",
        "\n",
        "## Implementaion\n",
        "\n",
        "- We have used shake Davidnet architecute, modified parameters\n",
        "- Added Shake and Drop regularization\n",
        "- Added the pregenerated cutout images\n",
        "\n",
        "\n",
        "\n",
        "\n",
        "\n"
      ]
    },
    {
      "cell_type": "markdown",
      "metadata": {
        "id": "4VZnv6dQMpUT",
        "colab_type": "text"
      },
      "source": [
        "## Import all the Keras libraries "
      ]
    },
    {
      "cell_type": "code",
      "metadata": {
        "id": "fvsRzQl8oqs1",
        "colab_type": "code",
        "colab": {}
      },
      "source": [
        "import tensorflow as tf\n",
        "import tensorflow.keras.backend as K\n",
        "import time\n",
        "import matplotlib.pyplot as plt\n",
        "import numpy as np\n",
        "% matplotlib inline\n",
        "np.random.seed(2017) \n",
        "\n",
        "from tensorflow.python.keras import utils\n",
        "from tensorflow.keras.regularizers import l2\n",
        "from tensorflow.keras import optimizers\n",
        "\n",
        "\n",
        "from tensorflow.keras import Model\n",
        "from tensorflow.keras.layers import MaxPooling2D, Conv2D, BatchNormalization, Layer,InputSpec, GlobalMaxPool2D,  Activation, Flatten, Dense, Dropout, Input, Concatenate, GlobalAveragePooling2D, SeparableConv2D, Lambda, Add, SpatialDropout2D\n",
        "from tensorflow.keras import initializers, regularizers, constraints\n",
        "from tensorflow.keras.initializers import Initializer\n",
        "from tensorflow.python.keras.backend import _regular_normalize_batch_in_training\n",
        "\n",
        "\n",
        "\n"
      ],
      "execution_count": 0,
      "outputs": []
    },
    {
      "cell_type": "code",
      "metadata": {
        "id": "pxSudXU5G4oI",
        "colab_type": "code",
        "colab": {}
      },
      "source": [
        "\n",
        "# Don't pre-allocate memory; allocate as-needed\n",
        "config = tf.ConfigProto()\n",
        "config.gpu_options.allow_growth = True"
      ],
      "execution_count": 0,
      "outputs": []
    },
    {
      "cell_type": "markdown",
      "metadata": {
        "id": "RLkNpUh8M_Ot",
        "colab_type": "text"
      },
      "source": [
        "## Mount the google drive to save the model"
      ]
    },
    {
      "cell_type": "code",
      "metadata": {
        "id": "v_An9PQ0ELl7",
        "colab_type": "code",
        "outputId": "64ec16eb-325d-475e-fcd2-d99e14f9cfca",
        "colab": {
          "base_uri": "https://localhost:8080/",
          "height": 126
        }
      },
      "source": [
        "# Mount the google drive\n",
        "from google.colab import drive\n",
        "drive.mount('/content/drive')"
      ],
      "execution_count": 0,
      "outputs": [
        {
          "output_type": "stream",
          "text": [
            "Go to this URL in a browser: https://accounts.google.com/o/oauth2/auth?client_id=947318989803-6bn6qk8qdgf4n4g3pfee6491hc0brc4i.apps.googleusercontent.com&redirect_uri=urn%3Aietf%3Awg%3Aoauth%3A2.0%3Aoob&scope=email%20https%3A%2F%2Fwww.googleapis.com%2Fauth%2Fdocs.test%20https%3A%2F%2Fwww.googleapis.com%2Fauth%2Fdrive%20https%3A%2F%2Fwww.googleapis.com%2Fauth%2Fdrive.photos.readonly%20https%3A%2F%2Fwww.googleapis.com%2Fauth%2Fpeopleapi.readonly&response_type=code\n",
            "\n",
            "Enter your authorization code:\n",
            "··········\n",
            "Mounted at /content/drive\n"
          ],
          "name": "stdout"
        }
      ]
    },
    {
      "cell_type": "markdown",
      "metadata": {
        "id": "sxGsz0eWNcOO",
        "colab_type": "text"
      },
      "source": [
        "## Load the  train features, train labels, test features, train labels from CIFAR10 dataset "
      ]
    },
    {
      "cell_type": "code",
      "metadata": {
        "id": "NHpnoCHZfO8g",
        "colab_type": "code",
        "outputId": "cbd9bb8c-b1ba-43a2-8b34-0e2b504411ce",
        "colab": {
          "base_uri": "https://localhost:8080/",
          "height": 71
        }
      },
      "source": [
        "from keras.datasets import cifar10\n",
        "(train_features, train_labels), (test_features, test_labels) = cifar10.load_data()\n",
        "num_train, img_channels, img_rows, img_cols =  train_features.shape\n",
        "num_test, _, _, _ =  test_features.shape\n",
        "num_classes = len(np.unique(train_labels))"
      ],
      "execution_count": 0,
      "outputs": [
        {
          "output_type": "stream",
          "text": [
            "Using TensorFlow backend.\n"
          ],
          "name": "stderr"
        },
        {
          "output_type": "stream",
          "text": [
            "Downloading data from https://www.cs.toronto.edu/~kriz/cifar-10-python.tar.gz\n",
            "170500096/170498071 [==============================] - 11s 0us/step\n"
          ],
          "name": "stdout"
        }
      ]
    },
    {
      "cell_type": "markdown",
      "metadata": {
        "id": "ue2rg7cnOO3X",
        "colab_type": "text"
      },
      "source": [
        "## Define class names and display\n",
        "* Define the 10 classes as airplane, automobile, bird, cat, deer, dog, frog, horse, ship, truck\n",
        "* Display one element from each class"
      ]
    },
    {
      "cell_type": "code",
      "metadata": {
        "id": "14HyBUXdfS6G",
        "colab_type": "code",
        "outputId": "a743db5f-947a-42fc-a45a-6db9f7c3379f",
        "colab": {
          "base_uri": "https://localhost:8080/",
          "height": 213
        }
      },
      "source": [
        "class_names = ['airplane','automobile','bird','cat','deer',\n",
        "               'dog','frog','horse','ship','truck']\n",
        "fig = plt.figure(figsize=(8,3))\n",
        "for i in range(num_classes):\n",
        "    ax = fig.add_subplot(2, 5, 1 + i, xticks=[], yticks=[])\n",
        "    idx = np.where(train_labels[:]==i)[0]\n",
        "    features_idx = train_features[idx,::]\n",
        "    img_num = np.random.randint(features_idx.shape[0])\n",
        "    im = features_idx[img_num]\n",
        "    ax.set_title(class_names[i])\n",
        "    plt.imshow(im)\n",
        "plt.show()"
      ],
      "execution_count": 0,
      "outputs": [
        {
          "output_type": "display_data",
          "data": {
            "image/png": "[encoded data removed]",
            "text/plain": [
              "<Figure size 576x216 with 10 Axes>"
            ]
          },
          "metadata": {
            "tags": []
          }
        }
      ]
    },
    {
      "cell_type": "markdown",
      "metadata": {
        "id": "iGiZ3cPmPXk1",
        "colab_type": "text"
      },
      "source": [
        "## Define a method for diplaying model history\n",
        "Define a method plot_model_history for displaying model history which will do the following\n",
        "* Plot Model accuracy (both the training and validation accuracy) vs number of epochs. \n",
        "* Model loss ((both the training and validation accuracy) vs number of epoch\n"
      ]
    },
    {
      "cell_type": "code",
      "metadata": {
        "id": "bmfsk76-fadV",
        "colab_type": "code",
        "colab": {}
      },
      "source": [
        "def plot_model_history(model_history):\n",
        "    fig, axs = plt.subplots(1,2,figsize=(15,5))\n",
        "    # summarize history for accuracy\n",
        "    axs[0].plot(range(1,len(model_history.history['acc'])+1),model_history.history['acc'])\n",
        "    axs[0].plot(range(1,len(model_history.history['val_acc'])+1),model_history.history['val_acc'])\n",
        "    axs[0].set_title('Model Accuracy')\n",
        "    axs[0].set_ylabel('Accuracy')\n",
        "    axs[0].set_xlabel('Epoch')\n",
        "    axs[0].set_xticks(np.arange(1,len(model_history.history['acc'])+1),len(model_history.history['acc'])/10)\n",
        "    axs[0].legend(['train', 'val'], loc='best')\n",
        "    # summarize history for loss\n",
        "    axs[1].plot(range(1,len(model_history.history['loss'])+1),model_history.history['loss'])\n",
        "    axs[1].plot(range(1,len(model_history.history['val_loss'])+1),model_history.history['val_loss'])\n",
        "    axs[1].set_title('Model Loss')\n",
        "    axs[1].set_ylabel('Loss')\n",
        "    axs[1].set_xlabel('Epoch')\n",
        "    axs[1].set_xticks(np.arange(1,len(model_history.history['loss'])+1),len(model_history.history['loss'])/10)\n",
        "    axs[1].legend(['train', 'val'], loc='best')\n",
        "    plt.show()"
      ],
      "execution_count": 0,
      "outputs": []
    },
    {
      "cell_type": "markdown",
      "metadata": {
        "id": "Jl9_fp3zRo6q",
        "colab_type": "text"
      },
      "source": [
        "## Define a method for calculate accuracy\n",
        "\n",
        "Define a mehod accuracy which will calculate accuracy from model\n",
        "* Get True class\n",
        "* Get Predicted class\n",
        "* Get numbe of correc predictions\n",
        "* Divide number of correct predictions by total number of elements to get the accuracy\n"
      ]
    },
    {
      "cell_type": "code",
      "metadata": {
        "id": "YJMT4rjgfdZz",
        "colab_type": "code",
        "colab": {}
      },
      "source": [
        "def accuracy(test_x, test_y, model):\n",
        "    result = model.predict(test_x)\n",
        "    predicted_class = np.argmax(result, axis=1)\n",
        "    true_class = np.argmax(test_y, axis=1)\n",
        "    num_correct = np.sum(predicted_class == true_class) \n",
        "    accuracy = float(num_correct)/result.shape[0]\n",
        "    return (accuracy * 100)"
      ],
      "execution_count": 0,
      "outputs": []
    },
    {
      "cell_type": "markdown",
      "metadata": {
        "id": "DMqqorLbTNSz",
        "colab_type": "text"
      },
      "source": [
        "## Perform pixel normalization of features and one hot encoding of train and test\n",
        "\n",
        "* Perform pixel normalization by dividing train and test features by 255\n",
        "* Use to_categorical method of np_utils to use one hot encoding to Convert the train_labels, test_labels to 10 dimensional categorical matrix"
      ]
    },
    {
      "cell_type": "code",
      "metadata": {
        "id": "T5c5nDvxm6zR",
        "colab_type": "code",
        "outputId": "82e7eb30-3f9c-4c85-d623-e8c53615ad97",
        "colab": {
          "base_uri": "https://localhost:8080/",
          "height": 71
        }
      },
      "source": [
        "#train_features = train_features.astype('float32')/255\n",
        "#test_features = test_features.astype('float32')/255\n",
        "# convert class labels to binary class labels\n",
        "#train_labels = np_utils.to_categorical(train_labels, num_classes)\n",
        "#test_labels = np_utils.to_categorical(test_labels, num_classes)\n",
        "\n",
        "\n",
        "#(x_train, y_train), (x_test, y_test) = tf.keras.datasets.cifar10.load_data()\n",
        "import random\n",
        "x_train, y_train, x_test, y_test = train_features, train_labels, test_features, test_labels\n",
        "\n",
        "index_list_aug1 = random.sample(range(len(x_train)), 25000)\n",
        "print(\"index_list_aug1 len=\", len(index_list_aug1))\n",
        "x_train_aug1,y_train_aug1 = np.copy(x_train[index_list_aug1]), np.copy(y_train[index_list_aug1])\n",
        "print(\"x_train_aug1.shape=\", x_train_aug1.shape)\n",
        "print(\"y_train_aug1.shape=\", y_train_aug1.shape)\n",
        "\n",
        "index_list_aug2 = random.sample(range(len(x_train)), 25000)\n",
        "x_train_aug2,y_train_aug2 = np.copy(x_train[index_list_aug2]), np.copy(y_train[index_list_aug2])\n",
        "\n",
        "x_test_aug1, y_test_aug1 = np.copy(x_test), np.copy(y_test)\n",
        "x_test_aug2, y_test_aug2 = np.copy(x_test), np.copy(y_test)\n",
        "\n",
        "\n",
        "len_train, len_test = len(x_train), len(x_test)\n",
        "y_train = utils.to_categorical(y_train, num_classes)\n",
        "y_test = utils.to_categorical(y_test, num_classes)\n",
        "\n",
        "train_mean = np.mean(x_train, axis=(0,1,2))\n",
        "train_std = np.std(x_train, axis=(0,1,2))\n",
        "\n",
        "normalize = lambda x: ((x - train_mean) / train_std).astype('float32') # todo: check here\n",
        "#pad4 = lambda x: np.pad(x, [(0, 0), (4, 4), (4, 4), (0, 0)], mode='reflect')\n",
        "\n",
        "#x_train = normalize(pad4(x_train))\n",
        "x_train = normalize(x_train)\n",
        "x_test = normalize(x_test)"
      ],
      "execution_count": 0,
      "outputs": [
        {
          "output_type": "stream",
          "text": [
            "index_list_aug1 len= 25000\n",
            "x_train_aug1.shape= (25000, 32, 32, 3)\n",
            "y_train_aug1.shape= (25000, 1)\n"
          ],
          "name": "stdout"
        }
      ]
    },
    {
      "cell_type": "code",
      "metadata": {
        "id": "37OiiDOq1SXv",
        "colab_type": "code",
        "colab": {}
      },
      "source": [
        "!cp '/content/drive/My Drive/img_aug_cutout_x.npy' .\n",
        "!cp '/content/drive/My Drive/lables_cutout.npy' ."
      ],
      "execution_count": 0,
      "outputs": []
    },
    {
      "cell_type": "code",
      "metadata": {
        "id": "dE46WK5m4HTf",
        "colab_type": "code",
        "colab": {}
      },
      "source": [
        "cutout_x = np.load('img_aug_cutout_x.npy',encoding='latin1')\n",
        "cutout_y = np.load('lables_cutout.npy',encoding='latin1')\n",
        "cutout_y = cutout_y.reshape(cutout_y.shape[0], 1)"
      ],
      "execution_count": 0,
      "outputs": []
    },
    {
      "cell_type": "code",
      "metadata": {
        "id": "KqWYjM-AHz9F",
        "colab_type": "code",
        "outputId": "d0917673-c206-4d85-8a79-16f605ee8531",
        "colab": {
          "base_uri": "https://localhost:8080/",
          "height": 35
        }
      },
      "source": [
        "print(len(index_list_aug1))"
      ],
      "execution_count": 0,
      "outputs": [
        {
          "output_type": "stream",
          "text": [
            "25000\n"
          ],
          "name": "stdout"
        }
      ]
    },
    {
      "cell_type": "code",
      "metadata": {
        "id": "euarYGaR4kfs",
        "colab_type": "code",
        "outputId": "7b7300b3-1148-4fb8-e467-192990f01e9a",
        "colab": {
          "base_uri": "https://localhost:8080/",
          "height": 71
        }
      },
      "source": [
        "index_list_aug1 = random.sample(range(len(cutout_x)), 25000)\n",
        "x_aug1 = cutout_x[index_list_aug1]\n",
        "y_aug1 = cutout_y[index_list_aug1]\n",
        "\n",
        "print(\"x_train_aug1.shape= \", x_train_aug1.shape)\n",
        "print(\"x_aug1.shape= \", x_aug1.shape)\n",
        "print(\"y_aug1.shape= \", y_aug1.shape)\n",
        "\n",
        "x_train_aug1=np.append(x_train_aug1, x_aug1, axis=0)\n",
        "y_train_aug1=np.append(y_train_aug1, y_aug1, axis=0)\n",
        "\n",
        "len_train_aug1, len_test_aug1 = len(x_train_aug1), len(x_test_aug1)\n",
        "y_train_aug1 = utils.to_categorical(y_train_aug1, num_classes)\n",
        "y_test_aug1 = utils.to_categorical(y_test_aug1, num_classes)\n",
        "\n",
        "train_aug1_mean = np.mean(x_train_aug1, axis=(0,1,2))\n",
        "train_aug1_std = np.std(x_train_aug1, axis=(0,1,2))\n",
        "\n",
        "normalize = lambda x: ((x - train_aug1_mean) / train_aug1_std).astype('float32') # todo: check here\n",
        "#pad4 = lambda x: np.pad(x, [(0, 0), (4, 4), (4, 4), (0, 0)], mode='reflect')\n",
        "\n",
        "#x_train = normalize(pad4(x_train))\n",
        "x_train_aug1 = normalize(x_train_aug1)\n",
        "x_test_aug1 = normalize(x_test_aug1)"
      ],
      "execution_count": 0,
      "outputs": [
        {
          "output_type": "stream",
          "text": [
            "x_train_aug1.shape=  (25000, 32, 32, 3)\n",
            "x_aug1.shape=  (25000, 32, 32, 3)\n",
            "y_aug1.shape=  (25000, 1)\n"
          ],
          "name": "stdout"
        }
      ]
    },
    {
      "cell_type": "code",
      "metadata": {
        "id": "6X6HRIge584P",
        "colab_type": "code",
        "colab": {}
      },
      "source": [
        "index_list_aug2 = random.sample(range(len(cutout_x)), 25000)\n",
        "x_aug2 = cutout_x[index_list_aug2]\n",
        "y_aug2 = cutout_y[index_list_aug2]\n",
        "\n",
        "x_train_aug2 = np.append(x_train_aug2, x_aug2, axis=0)\n",
        "y_train_aug2 = np.append(y_train_aug2, y_aug2, axis=0)\n",
        "\n",
        "len_train_aug2, len_test_aug2 = len(x_train_aug2), len(x_test_aug2)\n",
        "y_train_aug2 = utils.to_categorical(y_train_aug2, num_classes)\n",
        "y_test_aug2 = utils.to_categorical(y_test_aug2, num_classes)\n",
        "\n",
        "train_aug2_mean = np.mean(x_train_aug2, axis=(0,1,2))\n",
        "train_aug2_std = np.std(x_train_aug2, axis=(0,1,2))\n",
        "\n",
        "normalize = lambda x: ((x - train_aug2_mean) / train_aug2_std).astype('float32') # todo: check here\n",
        "#pad4 = lambda x: np.pad(x, [(0, 0), (4, 4), (4, 4), (0, 0)], mode='reflect')\n",
        "\n",
        "#x_train = normalize(pad4(x_train))\n",
        "x_train_aug2 = normalize(x_train_aug2)\n",
        "x_test_aug2 = normalize(x_test_aug2)"
      ],
      "execution_count": 0,
      "outputs": []
    },
    {
      "cell_type": "code",
      "metadata": {
        "id": "zUJ4R0zY-oyf",
        "colab_type": "code",
        "colab": {}
      },
      "source": [
        "import scipy\n",
        "import scipy.misc\n",
        "import skimage.transform\n",
        "new_shape_16 = (16,16,3)\n",
        "new_shape_24 = (24,24,3)\n",
        "x_train_16 = np.empty(shape=(x_train.shape[0],)+new_shape_16)\n",
        "x_train_24 = np.empty(shape=(x_train.shape[0],)+new_shape_24)\n",
        "for idx in range(x_train.shape[0]):\n",
        "    x_train_16[idx] = skimage.transform.resize(x_train[idx], new_shape_16)\n",
        "    x_train_24[idx] = skimage.transform.resize(x_train[idx], new_shape_24)\n"
      ],
      "execution_count": 0,
      "outputs": []
    },
    {
      "cell_type": "code",
      "metadata": {
        "id": "WxUB00ryvOqH",
        "colab_type": "code",
        "colab": {}
      },
      "source": [
        "#TODO : Chnage for V100\n",
        "NUM_PARALLEL_CALLS=2\n",
        "\n",
        "def _bytes_feature(value):\n",
        "    return tf.train.Feature(bytes_list=tf.train.BytesList(value=[value]))\n",
        " \n",
        " \n",
        "def save_tf_records(x_train, y_train, path, file_prefix):\n",
        "    \n",
        "    chunk_size = 10000\n",
        "    num_chunks = int(x_train.shape[0] / chunk_size )\n",
        "    if int(x_train.shape[0] % chunk_size) > 0:\n",
        "        num_chunks += 1\n",
        "    current_pointer = 0\n",
        "    write = None\n",
        "    for chunk in range(num_chunks):\n",
        "        writer = tf.python_io.TFRecordWriter(path + '/' + file_prefix + \"_\" + str(chunk+1) + \".tfrecord\")\n",
        "        \n",
        "        x_chunk = x_train[current_pointer: current_pointer + chunk_size]\n",
        "        y_chunk = y_train[current_pointer: current_pointer + chunk_size]\n",
        "        current_pointer += chunk_size\n",
        "        for i in range(chunk_size):\n",
        "            example = tf.train.Example(features=tf.train.Features(\n",
        "                feature={'image': _bytes_feature(x_train[i].tostring()),\n",
        "                         'label': _bytes_feature(\n",
        "                             y_train[i].tostring())\n",
        "                         }))\n",
        " \n",
        "        writer.write(example.SerializeToString())\n",
        "        if writer is not None:\n",
        "            writer.close()\n",
        "  \n",
        "def load_tf_records(filenames, dimension=()): \n",
        "   \n",
        " \n",
        "    def parse_fn(record):\n",
        "       \n",
        "        featdef = {\n",
        "            'image': tf.FixedLenFeature(shape=[], dtype=tf.string),\n",
        "            'labels': tf.FixedLenFeature(shape=[], dtype=tf.string),\n",
        "        }\n",
        " \n",
        "        example = tf.parse_single_example(record, featdef)\n",
        "        im = tf.decode_raw(example['image'], tf.float32)\n",
        "        im = tf.reshape(im, dimension)\n",
        "        lbl = tf.decode_raw(example['labels'], tf.int64)\n",
        "        return im, lbl\n",
        "       \n",
        "      \n",
        "    files = tf.data.Dataset.list_files(filenames)\n",
        "    #dataset = files.interleave(tf.data.TFRecordDataset)\n",
        "    dataset = files.apply(tf.contrib.data.parallel_interleave(tf.data.TFRecordDataset, cycle_length=2))\n",
        "    dataset = dataset.shuffle(buffer_size=100000)\n",
        "    #dataset = dataset.apply(tf.contrib.data.map_and_batch(\n",
        "    #map_func=parse_fn, batch_size=FLAGS))\n",
        "    dataset = dataset.map(map_func=parse_fn, num_parallel_calls=NUM_PARALLEL_CALLS)\n",
        "    dataset = dataset.batch(batch_size=BATCH_SIZE)\n",
        "    dataset = dataset.prefetch(buffer_size=BATCH_SIZE)\n",
        "    #iterator = dataset.make_one_shot_iterator()\n",
        "    dataset = dataset.repeat(24)\n",
        "    iterator = dataset.make_one_shot_iterator()\n",
        "    features, labels = iterator.get_next()\n",
        " \n",
        "    return features, labels\n",
        "    #return iterator\n",
        "    \n",
        "    #dataset = tf.data.TFRecordDataset(filenames)\n",
        "     \n",
        "    #dataset = dataset.map(parser)\n",
        "    #dataset = dataset.shuffle(buffer_size=50000)\n",
        "    #dataset = dataset.batch(50000)\n",
        "    #dataset = dataset.repeat(1)\n",
        "    \n",
        "    #return iterator.get_next()\n"
      ],
      "execution_count": 0,
      "outputs": []
    },
    {
      "cell_type": "code",
      "metadata": {
        "id": "XqUWKudc-cfs",
        "colab_type": "code",
        "colab": {}
      },
      "source": [
        "save_tf_records(x_train, y_train, '.', 'train_32')"
      ],
      "execution_count": 0,
      "outputs": []
    },
    {
      "cell_type": "code",
      "metadata": {
        "id": "mlfuwypwA8ur",
        "colab_type": "code",
        "outputId": "0f4173cf-8a62-4281-9a07-044a7d6b2bb7",
        "colab": {
          "base_uri": "https://localhost:8080/",
          "height": 196
        }
      },
      "source": [
        "!ls -l"
      ],
      "execution_count": 0,
      "outputs": [
        {
          "output_type": "stream",
          "text": [
            "total 150488\n",
            "drwx------ 3 root root      4096 Aug 25 05:05 drive\n",
            "-rw------- 1 root root 153600128 Aug 25 05:05 img_aug_cutout_x.npy\n",
            "-rw------- 1 root root    400128 Aug 25 05:05 lables_cutout.npy\n",
            "drwxr-xr-x 1 root root      4096 Aug 22 16:14 sample_data\n",
            "-rw-r--r-- 1 root root     12381 Aug 25 05:08 train_32_1.tfrecord\n",
            "-rw-r--r-- 1 root root     12381 Aug 25 05:08 train_32_2.tfrecord\n",
            "-rw-r--r-- 1 root root     12381 Aug 25 05:08 train_32_3.tfrecord\n",
            "-rw-r--r-- 1 root root     12381 Aug 25 05:08 train_32_4.tfrecord\n",
            "-rw-r--r-- 1 root root     12381 Aug 25 05:08 train_32_5.tfrecord\n"
          ],
          "name": "stdout"
        }
      ]
    },
    {
      "cell_type": "code",
      "metadata": {
        "id": "mlw1uMwcxaIf",
        "colab_type": "code",
        "outputId": "b5576063-38a9-4236-9985-3160432330d3",
        "colab": {
          "base_uri": "https://localhost:8080/",
          "height": 466
        }
      },
      "source": [
        "!lscpu"
      ],
      "execution_count": 0,
      "outputs": [
        {
          "output_type": "stream",
          "text": [
            "Architecture:        x86_64\n",
            "CPU op-mode(s):      32-bit, 64-bit\n",
            "Byte Order:          Little Endian\n",
            "CPU(s):              2\n",
            "On-line CPU(s) list: 0,1\n",
            "Thread(s) per core:  2\n",
            "Core(s) per socket:  1\n",
            "Socket(s):           1\n",
            "NUMA node(s):        1\n",
            "Vendor ID:           GenuineIntel\n",
            "CPU family:          6\n",
            "Model:               63\n",
            "Model name:          Intel(R) Xeon(R) CPU @ 2.30GHz\n",
            "Stepping:            0\n",
            "CPU MHz:             2300.000\n",
            "BogoMIPS:            4600.00\n",
            "Hypervisor vendor:   KVM\n",
            "Virtualization type: full\n",
            "L1d cache:           32K\n",
            "L1i cache:           32K\n",
            "L2 cache:            256K\n",
            "L3 cache:            46080K\n",
            "NUMA node0 CPU(s):   0,1\n",
            "Flags:               fpu vme de pse tsc msr pae mce cx8 apic sep mtrr pge mca cmov pat pse36 clflush mmx fxsr sse sse2 ss ht syscall nx pdpe1gb rdtscp lm constant_tsc rep_good nopl xtopology nonstop_tsc cpuid tsc_known_freq pni pclmulqdq ssse3 fma cx16 pcid sse4_1 sse4_2 x2apic movbe popcnt aes xsave avx f16c rdrand hypervisor lahf_lm abm invpcid_single ssbd ibrs ibpb stibp fsgsbase tsc_adjust bmi1 avx2 smep bmi2 erms invpcid xsaveopt arat md_clear arch_capabilities\n"
          ],
          "name": "stdout"
        }
      ]
    },
    {
      "cell_type": "markdown",
      "metadata": {
        "id": "59-XyxQmIspb",
        "colab_type": "text"
      },
      "source": [
        "## Define Methods used for generating  model\n"
      ]
    },
    {
      "cell_type": "code",
      "metadata": {
        "id": "3RY6GVu4Hs1e",
        "colab_type": "code",
        "colab": {}
      },
      "source": [
        "class ShakeDrop(Layer):\n",
        "\n",
        "    def __init__(self,**kwargs):\n",
        "        \n",
        "        super(ShakeDrop, self).__init__(**kwargs)\n",
        "\n",
        "    def build(self, input_shape):\n",
        "       \n",
        "        super(ShakeDrop, self).build(input_shape)  # Be sure to call this at the end\n",
        "\n",
        "    def call(self, x):\n",
        "        print(x.shape)\n",
        "        #assert isinstance(x, list)\n",
        "        batch_size = K.shape(x)[0]\n",
        "        print(\"batch\",batch_size)\n",
        "        alpha = K.random_uniform((batch_size, 1, 1, 1))\n",
        "        beta = K.random_uniform((batch_size, 1, 1, 1))\n",
        "        \n",
        "        #prob = tf.ones(shape=[batch_size, 1, 1, 1])*0.5\n",
        "        bernoulli_dis = tf.distributions.Bernoulli(probs=0.5,dtype=tf.float32)\n",
        "        brv = bernoulli_dis.sample(sample_shape=(batch_size, 1, 1, 1))\n",
        "        \n",
        "        def x_shake():\n",
        "            x1 = x*(brv + beta - brv*beta ) + K.stop_gradient(x*(brv + alpha - brv*alpha ) - x*(brv + beta - brv*beta ))\n",
        "            print(x1.shape)\n",
        "            return x1\n",
        "        # even-even during testing phase\n",
        "        def x_even():\n",
        "            return 0.5 * x\n",
        "        return K.in_train_phase(x_shake, x_even)\n",
        "        \n",
        "        return K.dot(x, self.kernel)\n",
        "\n",
        "    def compute_output_shape(self, input_shape):\n",
        "        print(input_shape[3])\n",
        "        return input_shape\n",
        "      \n",
        "\n",
        " "
      ],
      "execution_count": 0,
      "outputs": []
    },
    {
      "cell_type": "code",
      "metadata": {
        "id": "Q7QQn1UWrnmu",
        "colab_type": "code",
        "colab": {}
      },
      "source": [
        "import tensorflow as tf\n",
        "def init_pytorch(shape, dtype=tf.float32, partition_info=None):\n",
        "  fan = np.prod(shape[:-1])\n",
        "  bound = 1 / math.sqrt(fan)\n",
        "  return tf.random.uniform(shape, minval=-bound, maxval=bound, dtype=dtype)\n",
        "\n",
        "def init_pytorch_reduced(shape, dtype=tf.float32, partition_info=None):\n",
        "  fan = np.prod(shape[:-1])\n",
        "  bound = 1 / math.sqrt(fan)\n",
        "  return 0.125*tf.random.uniform(shape, minval=-bound, maxval=bound, dtype=dtype)"
      ],
      "execution_count": 0,
      "outputs": []
    },
    {
      "cell_type": "code",
      "metadata": {
        "id": "I2jfubSZD2pw",
        "colab_type": "code",
        "colab": {}
      },
      "source": [
        "from __future__ import absolute_import\n",
        "from __future__ import division\n",
        "from __future__ import print_function\n",
        "\n",
        "import os\n",
        "import warnings\n",
        "\n",
        "\n",
        "\n",
        "def space_to_depth_2(x):\n",
        "    return tf.space_to_depth(x, block_size=2)\n",
        "\n",
        "\n",
        "def space_to_depth_4(x):\n",
        "    return tf.space_to_depth(x, block_size=4)\n",
        "\n",
        "def space_to_depth_8(x):\n",
        "    return tf.space_to_depth(x, block_size=8) \n",
        "  \n",
        "\n",
        "def conv_bn_block(input_tensor, kernel_size, l2_reg, use_separable=False ,activation_late = False):\n",
        "    if use_separable==False:\n",
        "        x = Conv2D(kernel_size, 3,\n",
        "                          padding=\"SAME\",\n",
        "                          kernel_initializer=init_pytorch_reduced,\n",
        "                          kernel_regularizer=l2_reg\n",
        "                         )(input_tensor)\n",
        "    else:\n",
        "        x = SeparableConvolution2D(kernel_size,3,\n",
        "                          border_mode='same',\n",
        "                          kernel_initializer=init_pytorch_reduced,\n",
        "                          kernel_regularizer=l2_reg\n",
        "                         )(input_tensor)\n",
        "    \n",
        "    #x = BatchNormalization(momentum=0.9, epsilon=1e-5)(x)\n",
        "    #x = SpatialDropout2D(0.2)(x)\n",
        "    #x = SpatialDropout2D(0.1)(x)\n",
        "    x = BatchNormalization(momentum=0.9, epsilon=1e-5)(x)\n",
        "    if activation_late:\n",
        "      return x\n",
        "    x = Activation('relu')(x)\n",
        "    #x = Activation('selu')(x)\n",
        "    return x\n",
        "  \n",
        "  \n",
        "def res_block(input_tensor, kernel_size, l2_reg, res=False, use_separable=False,activation_late=False):\n",
        "    \"\"\"This method is used for generating a convolution block for ENAS. This block will perform convolution operation on last layer,\n",
        "    followed by concatenation of skip connections. Finally concatenated blocks are convolved using 1x1 kernel to get the final output \n",
        "    # Arguments\n",
        "        input_tensor: input tensor\n",
        "        kernel_size:  the kernel size of convolution operation performed on input_tensor, which is the output from last layer\n",
        "        output_kerner_size: The size of kernels for output of the block. This is used in the final 1x1 layer\n",
        "        filters: a tuple of integers \n",
        "        layer_id: id of layer\n",
        "        use_separable: True if you want to use separable convolution, False otherwise\n",
        "        dropout_rate: Dropout rate\n",
        "    # Returns\n",
        "        Output tensor for the block.\n",
        "   \n",
        "    \"\"\"         \n",
        "    #print(\"S1: input_tensor shape= \" + str(tf.shape(input_tensor.shape)))\n",
        "     \n",
        "    x1 = conv_bn_block(input_tensor, kernel_size, l2_reg, use_separable,activation_late)\n",
        "    \n",
        "      \n",
        "    x1 = MaxPooling2D(pool_size=(2, 2))(x1)\n",
        "    if activation_late:\n",
        "      x1 = Activation('relu')(x1)\n",
        "      #x1 = Activation('selu')(x1)\n",
        "    if res:\n",
        "        x2 = conv_bn_block(x1, kernel_size, l2_reg, use_separable,False)\n",
        "        x2 = conv_bn_block(x2, kernel_size, l2_reg, use_separable,False)\n",
        "        x2 = ShakeDrop()(x2)\n",
        "        #x1 = Add()([x1, x2])\n",
        "        x1 = Concatenate(axis=-1)([x1, x2])\n",
        "                \n",
        "                \n",
        "\n",
        "    \n",
        "    return x1  \n",
        "    \n",
        "\n",
        "    \n",
        "  \n",
        "     \n",
        " "
      ],
      "execution_count": 0,
      "outputs": []
    },
    {
      "cell_type": "code",
      "metadata": {
        "id": "bD5wJkyuqw9i",
        "colab_type": "code",
        "colab": {}
      },
      "source": [
        ""
      ],
      "execution_count": 0,
      "outputs": []
    },
    {
      "cell_type": "markdown",
      "metadata": {
        "id": "aH5_puiFU6fC",
        "colab_type": "text"
      },
      "source": [
        "## Define the model\n",
        "\n",
        "- Define the model using the ENAS convolution and transition blocks\n",
        "- Use 1x1 convolution to reduce number of channels to number of classes\n",
        "- Use Global Average Pooling\n",
        "- Use softmax for prediction"
      ]
    },
    {
      "cell_type": "code",
      "metadata": {
        "id": "GraGY_clp-wa",
        "colab_type": "code",
        "outputId": "d104321c-77cf-4f76-c7a2-d3357339ea6e",
        "colab": {
          "base_uri": "https://localhost:8080/",
          "height": 269
        }
      },
      "source": [
        "# Define the model\n",
        "import math\n",
        "\n",
        "\n",
        "c=32\n",
        "weight=0.125\n",
        "l2_reg = l2(0.0005)\n",
        "# Define the input dimensions 32x32x3\n",
        "input = Input(shape=(None, None, 3))\n",
        "\n",
        "pre_layer = conv_bn_block(input, c, l2_reg)\n",
        "\n",
        "# Define layer1: Perform separable 5x5 convolution on the last layer\n",
        "res_layer1 = res_block(pre_layer, c*2, l2_reg, True, use_separable=False,activation_late=True) \n",
        "res_layer2 = res_block(res_layer1, c*4, l2_reg, False, use_separable=False,activation_late=True)\n",
        "res_layer3 = res_block(res_layer2, c*8, l2_reg, True, use_separable=False,activation_late=True) \n",
        "\n",
        "conv_1 = Conv2D(10, 1, padding=\"SAME\",  kernel_initializer=init_pytorch_reduced,  kernel_regularizer=l2_reg)(res_layer3)\n",
        "\n",
        "# layer16: Perform Global Average pooling on layer15\n",
        "pool_layer = GlobalMaxPool2D()(conv_1)\n",
        "#linear = Flatten()(pool_layer)\n",
        "#linear = Dense(10, kernel_initializer=init_pytorch, use_bias=False)(pool_layer)\n",
        "#linear = np.multiply(linear,weight)\n",
        "\n",
        "\n",
        "# Apply softmax activation on the model\n",
        "outputs = Activation('softmax')(pool_layer)"
      ],
      "execution_count": 0,
      "outputs": [
        {
          "output_type": "stream",
          "text": [
            "WARNING: Logging before flag parsing goes to stderr.\n",
            "W0825 05:08:25.956993 139738895591296 deprecation.py:323] From /usr/local/lib/python3.6/dist-packages/tensorflow/python/autograph/impl/api.py:253: Bernoulli.__init__ (from tensorflow.python.ops.distributions.bernoulli) is deprecated and will be removed after 2019-01-01.\n",
            "Instructions for updating:\n",
            "The TensorFlow Distributions library has moved to TensorFlow Probability (https://github.com/tensorflow/probability). You should update all references to use `tfp.distributions` instead of `tf.distributions`.\n",
            "W0825 05:08:25.963778 139738895591296 deprecation.py:323] From /usr/local/lib/python3.6/dist-packages/tensorflow/python/ops/distributions/bernoulli.py:97: Distribution.__init__ (from tensorflow.python.ops.distributions.distribution) is deprecated and will be removed after 2019-01-01.\n",
            "Instructions for updating:\n",
            "The TensorFlow Distributions library has moved to TensorFlow Probability (https://github.com/tensorflow/probability). You should update all references to use `tfp.distributions` instead of `tf.distributions`.\n"
          ],
          "name": "stderr"
        },
        {
          "output_type": "stream",
          "text": [
            "(?, ?, ?, 64)\n",
            "batch Tensor(\"shake_drop/strided_slice:0\", shape=(), dtype=int32)\n",
            "(?, ?, ?, 64)\n",
            "(?, ?, ?, 256)\n",
            "batch Tensor(\"shake_drop_1/strided_slice:0\", shape=(), dtype=int32)\n",
            "(?, ?, ?, 256)\n"
          ],
          "name": "stdout"
        }
      ]
    },
    {
      "cell_type": "markdown",
      "metadata": {
        "id": "WUzP5RrXduZf",
        "colab_type": "text"
      },
      "source": [
        "## Get and Summarize the Model"
      ]
    },
    {
      "cell_type": "markdown",
      "metadata": {
        "id": "5KvHg0uyU3UK",
        "colab_type": "text"
      },
      "source": [
        ""
      ]
    },
    {
      "cell_type": "code",
      "metadata": {
        "id": "_-1DTXjI9AWt",
        "colab_type": "code",
        "outputId": "4620153b-5c62-4560-be95-1049f7a24431",
        "colab": {
          "base_uri": "https://localhost:8080/",
          "height": 1000
        }
      },
      "source": [
        "model = Model(inputs=[input], outputs=[outputs])\n",
        "model.summary()"
      ],
      "execution_count": 0,
      "outputs": [
        {
          "output_type": "stream",
          "text": [
            "Model: \"model\"\n",
            "__________________________________________________________________________________________________\n",
            "Layer (type)                    Output Shape         Param #     Connected to                     \n",
            "==================================================================================================\n",
            "input_1 (InputLayer)            [(None, None, None,  0                                            \n",
            "__________________________________________________________________________________________________\n",
            "conv2d (Conv2D)                 (None, None, None, 3 896         input_1[0][0]                    \n",
            "__________________________________________________________________________________________________\n",
            "batch_normalization (BatchNorma (None, None, None, 3 128         conv2d[0][0]                     \n",
            "__________________________________________________________________________________________________\n",
            "activation (Activation)         (None, None, None, 3 0           batch_normalization[0][0]        \n",
            "__________________________________________________________________________________________________\n",
            "conv2d_1 (Conv2D)               (None, None, None, 6 18496       activation[0][0]                 \n",
            "__________________________________________________________________________________________________\n",
            "batch_normalization_1 (BatchNor (None, None, None, 6 256         conv2d_1[0][0]                   \n",
            "__________________________________________________________________________________________________\n",
            "max_pooling2d (MaxPooling2D)    (None, None, None, 6 0           batch_normalization_1[0][0]      \n",
            "__________________________________________________________________________________________________\n",
            "activation_1 (Activation)       (None, None, None, 6 0           max_pooling2d[0][0]              \n",
            "__________________________________________________________________________________________________\n",
            "conv2d_2 (Conv2D)               (None, None, None, 6 36928       activation_1[0][0]               \n",
            "__________________________________________________________________________________________________\n",
            "batch_normalization_2 (BatchNor (None, None, None, 6 256         conv2d_2[0][0]                   \n",
            "__________________________________________________________________________________________________\n",
            "activation_2 (Activation)       (None, None, None, 6 0           batch_normalization_2[0][0]      \n",
            "__________________________________________________________________________________________________\n",
            "conv2d_3 (Conv2D)               (None, None, None, 6 36928       activation_2[0][0]               \n",
            "__________________________________________________________________________________________________\n",
            "batch_normalization_3 (BatchNor (None, None, None, 6 256         conv2d_3[0][0]                   \n",
            "__________________________________________________________________________________________________\n",
            "activation_3 (Activation)       (None, None, None, 6 0           batch_normalization_3[0][0]      \n",
            "__________________________________________________________________________________________________\n",
            "shake_drop (ShakeDrop)          (None, None, None, 6 0           activation_3[0][0]               \n",
            "__________________________________________________________________________________________________\n",
            "concatenate (Concatenate)       (None, None, None, 1 0           activation_1[0][0]               \n",
            "                                                                 shake_drop[0][0]                 \n",
            "__________________________________________________________________________________________________\n",
            "conv2d_4 (Conv2D)               (None, None, None, 1 147584      concatenate[0][0]                \n",
            "__________________________________________________________________________________________________\n",
            "batch_normalization_4 (BatchNor (None, None, None, 1 512         conv2d_4[0][0]                   \n",
            "__________________________________________________________________________________________________\n",
            "max_pooling2d_1 (MaxPooling2D)  (None, None, None, 1 0           batch_normalization_4[0][0]      \n",
            "__________________________________________________________________________________________________\n",
            "activation_4 (Activation)       (None, None, None, 1 0           max_pooling2d_1[0][0]            \n",
            "__________________________________________________________________________________________________\n",
            "conv2d_5 (Conv2D)               (None, None, None, 2 295168      activation_4[0][0]               \n",
            "__________________________________________________________________________________________________\n",
            "batch_normalization_5 (BatchNor (None, None, None, 2 1024        conv2d_5[0][0]                   \n",
            "__________________________________________________________________________________________________\n",
            "max_pooling2d_2 (MaxPooling2D)  (None, None, None, 2 0           batch_normalization_5[0][0]      \n",
            "__________________________________________________________________________________________________\n",
            "activation_5 (Activation)       (None, None, None, 2 0           max_pooling2d_2[0][0]            \n",
            "__________________________________________________________________________________________________\n",
            "conv2d_6 (Conv2D)               (None, None, None, 2 590080      activation_5[0][0]               \n",
            "__________________________________________________________________________________________________\n",
            "batch_normalization_6 (BatchNor (None, None, None, 2 1024        conv2d_6[0][0]                   \n",
            "__________________________________________________________________________________________________\n",
            "activation_6 (Activation)       (None, None, None, 2 0           batch_normalization_6[0][0]      \n",
            "__________________________________________________________________________________________________\n",
            "conv2d_7 (Conv2D)               (None, None, None, 2 590080      activation_6[0][0]               \n",
            "__________________________________________________________________________________________________\n",
            "batch_normalization_7 (BatchNor (None, None, None, 2 1024        conv2d_7[0][0]                   \n",
            "__________________________________________________________________________________________________\n",
            "activation_7 (Activation)       (None, None, None, 2 0           batch_normalization_7[0][0]      \n",
            "__________________________________________________________________________________________________\n",
            "shake_drop_1 (ShakeDrop)        (None, None, None, 2 0           activation_7[0][0]               \n",
            "__________________________________________________________________________________________________\n",
            "concatenate_1 (Concatenate)     (None, None, None, 5 0           activation_5[0][0]               \n",
            "                                                                 shake_drop_1[0][0]               \n",
            "__________________________________________________________________________________________________\n",
            "conv2d_8 (Conv2D)               (None, None, None, 1 5130        concatenate_1[0][0]              \n",
            "__________________________________________________________________________________________________\n",
            "global_max_pooling2d (GlobalMax (None, 10)           0           conv2d_8[0][0]                   \n",
            "__________________________________________________________________________________________________\n",
            "activation_8 (Activation)       (None, 10)           0           global_max_pooling2d[0][0]       \n",
            "==================================================================================================\n",
            "Total params: 1,725,770\n",
            "Trainable params: 1,723,530\n",
            "Non-trainable params: 2,240\n",
            "__________________________________________________________________________________________________\n"
          ],
          "name": "stdout"
        }
      ]
    },
    {
      "cell_type": "markdown",
      "metadata": {
        "id": "OlCZiJ1WeGFW",
        "colab_type": "text"
      },
      "source": [
        "## Visually Display the model"
      ]
    },
    {
      "cell_type": "code",
      "metadata": {
        "id": "qw4Xm-YHoOJ_",
        "colab_type": "code",
        "outputId": "d24aa8c5-3258-4801-c91f-747434f877c4",
        "colab": {
          "base_uri": "https://localhost:8080/",
          "height": 1000
        }
      },
      "source": [
        "from tensorflow.keras.utils import plot_model\n",
        "from IPython.display import Image\n",
        "\n",
        "plot_model(model, to_file='model.png')\n",
        "Image(filename='model.png') "
      ],
      "execution_count": 0,
      "outputs": [
        {
          "output_type": "execute_result",
          "data": {
            "image/png": "[encoded data removed]",
            "text/plain": [
              "<IPython.core.display.Image object>"
            ]
          },
          "metadata": {
            "tags": []
          },
          "execution_count": 24
        }
      ]
    },
    {
      "cell_type": "markdown",
      "metadata": {
        "id": "9hyYItePeR8M",
        "colab_type": "text"
      },
      "source": [
        "## Compile the Model"
      ]
    },
    {
      "cell_type": "code",
      "metadata": {
        "id": "uoteIUqkGQ2k",
        "colab_type": "code",
        "colab": {}
      },
      "source": [
        "# Compile the model\n",
        "\n",
        "sgd = optimizers.SGD(lr=0.01, decay=1e-5, momentum=0.9, nesterov=True)\n",
        "\n",
        "model.compile(optimizer=sgd, loss='categorical_crossentropy', metrics=['accuracy'])\n"
      ],
      "execution_count": 0,
      "outputs": []
    },
    {
      "cell_type": "code",
      "metadata": {
        "id": "Jp-jxayFe8h6",
        "colab_type": "code",
        "colab": {}
      },
      "source": [
        "def get_random_eraser(p=0.5, s_l=0.02, s_h=0.4, r_1=0.3, r_2=1/0.3, v_l=0, v_h=255, pixel_level=False):\n",
        "    def eraser(input_img):\n",
        "        img_h, img_w, img_c = input_img.shape\n",
        "        p_1 = np.random.rand()\n",
        "\n",
        "        if p_1 > p:\n",
        "            return input_img\n",
        "\n",
        "        while True:\n",
        "            s = np.random.uniform(s_l, s_h) * img_h * img_w\n",
        "            r = np.random.uniform(r_1, r_2)\n",
        "            w = int(np.sqrt(s / r))\n",
        "            h = int(np.sqrt(s * r))\n",
        "            left = np.random.randint(0, img_w)\n",
        "            top = np.random.randint(0, img_h)\n",
        "\n",
        "            if left + w <= img_w and top + h <= img_h:\n",
        "                break\n",
        "\n",
        "        if pixel_level:\n",
        "            c = np.random.uniform(v_l, v_h, (h, w, img_c))\n",
        "        else:\n",
        "            c = np.random.uniform(v_l, v_h)\n",
        "\n",
        "        input_img[top:top + h, left:left + w, :] = c\n",
        "\n",
        "        return input_img\n",
        "\n",
        "    return eraser"
      ],
      "execution_count": 0,
      "outputs": []
    },
    {
      "cell_type": "markdown",
      "metadata": {
        "id": "6pUulK7DedEx",
        "colab_type": "text"
      },
      "source": [
        "## Train the Model and get the Metrics (Accuracy, Loss) and Plot the model history\n",
        "\n",
        "* Define callback to save the best model in each epoch\n",
        "* Train the model using fit_generator method\n",
        "* Plot the model history\n",
        "* Load the best model and get the accuracy on test data"
      ]
    },
    {
      "cell_type": "code",
      "metadata": {
        "id": "9eXJ5FWW2Pz-",
        "colab_type": "code",
        "colab": {}
      },
      "source": [
        "def get_class_prediction_count(model, x_test, test_labels):\n",
        "    predict_class = model.predict(x_test)\n",
        "    class_prediction_count = {0:0,1:0,2:0,3:0,4:0,5:0,6:0,7:0,8:0,9:0}\n",
        "    test_labels_list = test_labels.reshape(test_labels.shape[0]).tolist() \n",
        "    for i,label in enumerate(test_labels_list):\n",
        "        if np.argmax(predict_class[i]) == label:\n",
        "            class_prediction_count[label] += 1\n",
        "    return class_prediction_count\n",
        "\n",
        "def get_class_weights(dict_labels_vs_samples, balanced=True):\n",
        "  # param dict_labels_vs_samples: dict of 'label' vs. 'number of correct predictions'\n",
        "  # param balanced: if True, will produce class weights considering max samples count - % of augmented images per class will be proportional to max count of samples \n",
        "  # param balanced: if False, will produce class weights considering average samples count - % of aumented images per class will be proportional to avg samples of classes\n",
        "  \n",
        "  if not len(dict_labels_vs_samples) == 0:\n",
        "    print('WARNING: dict passed is NOT of length 200 - meaning not all 200 classes are included in the dict')\n",
        "    \n",
        "  keys = dict_labels_vs_samples.keys()\n",
        "  values = list(dict_labels_vs_samples.values())\n",
        "  total_samples = sum(values)\n",
        "  num_classes = len(values)\n",
        "  max_of_all_classes = max(values)\n",
        "  average_of_all_classes = total_samples / num_classes\n",
        "  multiplying_factor = 1\n",
        "  \n",
        "  if balanced:\n",
        "    multiplying_factor = max_of_all_classes / average_of_all_classes\n",
        "  \n",
        "  print('total_samples: ', total_samples)\n",
        "  print('num_classes: ', num_classes)\n",
        "  print('max_of_all_classes: ', max_of_all_classes)\n",
        "  print('multiplying_factor: ', multiplying_factor)\n",
        "  \n",
        "  class_weight = dict()\n",
        "\n",
        "  for key in keys:\n",
        "        num_correct_pred = int(dict_labels_vs_samples.get(key))\n",
        "        if num_correct_pred == 0:\n",
        "          num_correct_pred = 1 # this is to avoid divide by zero error, if a class has no correct predictions\n",
        "        score_for_class = (total_samples / (num_classes * num_correct_pred)) * multiplying_factor\n",
        "        class_weight[key] = score_for_class\n",
        "        \n",
        "  return class_weight\n",
        "            "
      ],
      "execution_count": 0,
      "outputs": []
    },
    {
      "cell_type": "code",
      "metadata": {
        "id": "7Gc9NPxd9SXu",
        "colab_type": "code",
        "colab": {}
      },
      "source": [
        "from tensorflow.keras.preprocessing.image import ImageDataGenerator\n",
        "from tensorflow.keras.callbacks import ModelCheckpoint\n",
        "from tensorflow.keras.callbacks import LearningRateScheduler\n",
        "from tensorflow.keras.callbacks import Callback\n",
        "\n",
        "EPOCHS=24\n",
        "LEARNING_RATE=0.4\n",
        "BATCH_SIZE=512\n",
        "iteration = 1\n",
        "lr_schedule = lambda t: np.interp([t], [0, 5, EPOCHS-7, EPOCHS], [0, LEARNING_RATE, 0.12, 0])[0]\n",
        "#lr_func = lambda: lr_schedule(global_step/batches_per_epoch)/BATCH_SIZE\n",
        "lr_func = lambda it: lr_schedule(it * BATCH_SIZE/50176)\n",
        "\n",
        "class OneCycleLR(Callback):\n",
        "    \n",
        "    def __init__(self):\n",
        "        global iteration          \n",
        "        super(OneCycleLR, self).__init__()\n",
        "        self.initial_lr = lr_func(iteration)\n",
        "        self.current_lr = self.initial_lr          \n",
        "        \n",
        "    def on_train_begin(self, logs={}):\n",
        "        global iteration\n",
        "        logs = logs or {}\n",
        "        self.current_lr = lr_func(iteration)     \n",
        "        K.set_value(self.model.optimizer.lr, self.current_lr)\n",
        "        \n",
        "    def on_epoch_begin(self, epoch, logs={}):\n",
        "        global iteration\n",
        "        logs = logs or {}\n",
        "        self.current_lr = lr_func(iteration)     \n",
        "        K.set_value(self.model.optimizer.lr, self.current_lr)\n",
        "        #print('For epoch: {},  iteration: {}, lr: {}'.format(epoch, iteration, self.current_lr ))\n",
        "        K.set_value(self.model.optimizer.lr, self.current_lr)\n",
        "        \n",
        "        \n",
        "    def on_batch_begin(self, epoch, logs={}):\n",
        "        global iteration\n",
        "        logs = logs or {}\n",
        "        self.current_lr = lr_func(iteration)     \n",
        "        K.set_value(self.model.optimizer.lr, self.current_lr)\n",
        "        #print('For iteration: {}, lr: {}'.format(iteration, self.current_lr ))\n",
        "           \n",
        "            \n",
        "    def on_batch_end(self, epoch, logs=None): \n",
        "        global iteration\n",
        "        logs = logs or {}\n",
        "        iteration += 1\n",
        "         \n",
        "\n",
        "\n",
        "\n",
        "def scheduler(epoch, lr):\n",
        "  return lr_schedule(epoch+1)\n",
        "\n",
        "callbacks_list=[]\n",
        "\n",
        "\n",
        "datagen = ImageDataGenerator(zoom_range=0.0, \n",
        "                             horizontal_flip=False)\n",
        "\n",
        "\n",
        "\n",
        "\n",
        "callbacks_list=[]\n",
        "model_save_path= \"/content/drive/My Drive/keras_improved_assignment14_3_best.h5\"\n",
        "callbacks_list.append(ModelCheckpoint(model_save_path, monitor='val_acc', verbose=1, save_best_only=True, mode='max'))\n",
        "callbacks_list.append(OneCycleLR())\n",
        "\n",
        "\n",
        "\n",
        "\n"
      ],
      "execution_count": 0,
      "outputs": []
    },
    {
      "cell_type": "code",
      "metadata": {
        "id": "VJqnSqKDC6Uf",
        "colab_type": "code",
        "outputId": "b848d8ab-42d4-47ee-876d-125465a33606",
        "colab": {
          "base_uri": "https://localhost:8080/",
          "height": 1000
        }
      },
      "source": [
        "# train the model\n",
        "start = time.time()\n",
        "\n",
        "model_info = model.fit_generator(datagen.flow(x_train_16, y_train, batch_size = 512, shuffle=True, seed=72 ),\n",
        "                                steps_per_epoch = 98, epochs = 2, \n",
        "                                 verbose=1, callbacks=callbacks_list)\n",
        "\n",
        "\n",
        "\n",
        "model_info = model.fit_generator(datagen.flow(x_train_24, y_train, batch_size = 512, shuffle=True, seed=85 ),\n",
        "                                steps_per_epoch = 98, epochs = 6, \n",
        "                                 verbose=1, callbacks=callbacks_list)\n",
        "\n",
        "model_info = model.fit_generator(datagen.flow(x_train_aug1, y_train_aug1, batch_size = 512, shuffle=True, seed=6 ),\n",
        "                                steps_per_epoch = 98, epochs = 3, \n",
        "                                verbose=1, callbacks=callbacks_list)\n",
        "\n",
        "\n",
        "\n",
        "model_info = model.fit_generator(datagen.flow(x_train_aug2, y_train_aug2, batch_size = 512, shuffle=True, seed=95 ),\n",
        "                                steps_per_epoch = 98, epochs = 3, \n",
        "                                 verbose=1, callbacks=callbacks_list)\n",
        "\n",
        "class_prediction_count = get_class_prediction_count(model, x_test, test_labels)\n",
        "class_weights = get_class_weights(class_prediction_count)\n",
        "\n",
        "model_info = model.fit_generator(datagen.flow(x_train, y_train, batch_size = 512, shuffle=True, seed=55 ),\n",
        "                                steps_per_epoch = 98, epochs = 3,  \n",
        "                                verbose=1, callbacks=callbacks_list, class_weight=class_weights)\n",
        "\n",
        "class_prediction_count = get_class_prediction_count(model, x_test, test_labels)\n",
        "class_weights = get_class_weights(class_prediction_count)\n",
        "\n",
        "model_info = model.fit_generator(datagen.flow(x_train, y_train, batch_size = 512, shuffle=True, seed=47 ),\n",
        "                                steps_per_epoch = 98, epochs = 3,  \n",
        "                                 verbose=1, callbacks=callbacks_list, class_weight=class_weights)\n",
        "\n",
        "\n",
        "model_info = model.fit_generator(datagen.flow(x_train, y_train, batch_size = 512, shuffle=True, seed=59 ),\n",
        "                                steps_per_epoch = 98, epochs = 4,  \n",
        "                                validation_data = (x_test, y_test), verbose=1, callbacks=callbacks_list, class_weight=class_weights)\n",
        "\n",
        "\n",
        "\n",
        "\n",
        "end = time.time()\n",
        "print (\"Model took %0.2f seconds to train\"%(end - start))\n",
        "# plot model history\n",
        "#plot_model_history(model_info)\n",
        "\n"
      ],
      "execution_count": 0,
      "outputs": [
        {
          "output_type": "stream",
          "text": [
            "Epoch 1/2\n",
            "97/98 [============================>.] - ETA: 0s - loss: 1.6707 - acc: 0.4009\n",
            "Epoch 00001: val_acc improved from -inf to 0.31150, saving model to /content/drive/My Drive/keras_improved_assignment14_3_best.h5\n",
            "98/98 [==============================] - 21s 211ms/step - loss: 1.6708 - acc: 0.4015 - val_loss: 2.2438 - val_acc: 0.3115\n",
            "Epoch 2/2\n",
            "97/98 [============================>.] - ETA: 0s - loss: 1.2534 - acc: 0.5797\n",
            "Epoch 00002: val_acc improved from 0.31150 to 0.36710, saving model to /content/drive/My Drive/keras_improved_assignment14_3_best.h5\n",
            "98/98 [==============================] - 11s 111ms/step - loss: 1.2528 - acc: 0.5802 - val_loss: 2.0557 - val_acc: 0.3671\n",
            "Epoch 1/6\n",
            "97/98 [============================>.] - ETA: 0s - loss: 1.0812 - acc: 0.6656\n",
            "Epoch 00001: val_acc improved from 0.36710 to 0.61620, saving model to /content/drive/My Drive/keras_improved_assignment14_3_best.h5\n",
            "98/98 [==============================] - 19s 190ms/step - loss: 1.0802 - acc: 0.6660 - val_loss: 1.2559 - val_acc: 0.6162\n",
            "Epoch 2/6\n",
            "97/98 [============================>.] - ETA: 0s - loss: 0.9413 - acc: 0.7416\n",
            "Epoch 00002: val_acc improved from 0.61620 to 0.63450, saving model to /content/drive/My Drive/keras_improved_assignment14_3_best.h5\n",
            "98/98 [==============================] - 17s 170ms/step - loss: 0.9425 - acc: 0.7414 - val_loss: 1.2592 - val_acc: 0.6345\n",
            "Epoch 3/6\n",
            "97/98 [============================>.] - ETA: 0s - loss: 0.9587 - acc: 0.7630\n",
            "Epoch 00003: val_acc did not improve from 0.63450\n",
            "98/98 [==============================] - 16s 165ms/step - loss: 0.9592 - acc: 0.7629 - val_loss: 1.4837 - val_acc: 0.6045\n",
            "Epoch 4/6\n",
            "97/98 [============================>.] - ETA: 0s - loss: 0.9468 - acc: 0.7910\n",
            "Epoch 00004: val_acc improved from 0.63450 to 0.68470, saving model to /content/drive/My Drive/keras_improved_assignment14_3_best.h5\n",
            "98/98 [==============================] - 17s 171ms/step - loss: 0.9463 - acc: 0.7912 - val_loss: 1.2775 - val_acc: 0.6847\n",
            "Epoch 5/6\n",
            "97/98 [============================>.] - ETA: 0s - loss: 0.9137 - acc: 0.8122\n",
            "Epoch 00005: val_acc improved from 0.68470 to 0.69180, saving model to /content/drive/My Drive/keras_improved_assignment14_3_best.h5\n",
            "98/98 [==============================] - 17s 170ms/step - loss: 0.9140 - acc: 0.8122 - val_loss: 1.2836 - val_acc: 0.6918\n",
            "Epoch 6/6\n",
            "97/98 [============================>.] - ETA: 0s - loss: 0.8797 - acc: 0.8287\n",
            "Epoch 00006: val_acc did not improve from 0.69180\n",
            "98/98 [==============================] - 16s 164ms/step - loss: 0.8804 - acc: 0.8283 - val_loss: 1.3567 - val_acc: 0.6691\n",
            "Epoch 1/3\n",
            "97/98 [============================>.] - ETA: 0s - loss: 1.2319 - acc: 0.7313\n",
            "Epoch 00001: val_acc did not improve from 0.69180\n",
            "98/98 [==============================] - 25s 251ms/step - loss: 1.2303 - acc: 0.7320 - val_loss: 1.5378 - val_acc: 0.6269\n",
            "Epoch 2/3\n",
            "97/98 [============================>.] - ETA: 0s - loss: 1.0527 - acc: 0.7934\n",
            "Epoch 00002: val_acc improved from 0.69180 to 0.76370, saving model to /content/drive/My Drive/keras_improved_assignment14_3_best.h5\n",
            "98/98 [==============================] - 23s 237ms/step - loss: 1.0523 - acc: 0.7934 - val_loss: 1.1351 - val_acc: 0.7637\n",
            "Epoch 3/3\n",
            "97/98 [============================>.] - ETA: 0s - loss: 0.9909 - acc: 0.8176\n",
            "Epoch 00003: val_acc did not improve from 0.76370\n",
            "98/98 [==============================] - 23s 231ms/step - loss: 0.9906 - acc: 0.8176 - val_loss: 1.1876 - val_acc: 0.7534\n",
            "Epoch 1/3\n",
            "97/98 [============================>.] - ETA: 0s - loss: 1.0214 - acc: 0.8125\n",
            "Epoch 00001: val_acc improved from 0.76370 to 0.78810, saving model to /content/drive/My Drive/keras_improved_assignment14_3_best.h5\n",
            "98/98 [==============================] - 23s 239ms/step - loss: 1.0211 - acc: 0.8126 - val_loss: 1.0823 - val_acc: 0.7881\n",
            "Epoch 2/3\n",
            "97/98 [============================>.] - ETA: 0s - loss: 0.9380 - acc: 0.8403\n",
            "Epoch 00002: val_acc did not improve from 0.78810\n",
            "98/98 [==============================] - 23s 233ms/step - loss: 0.9381 - acc: 0.8403 - val_loss: 1.0963 - val_acc: 0.7816\n",
            "Epoch 3/3\n",
            "97/98 [============================>.] - ETA: 0s - loss: 0.8871 - acc: 0.8598\n",
            "Epoch 00003: val_acc did not improve from 0.78810\n",
            "98/98 [==============================] - 23s 232ms/step - loss: 0.8872 - acc: 0.8598 - val_loss: 1.1534 - val_acc: 0.7622\n",
            "WARNING: dict passed is NOT of length 200 - meaning not all 200 classes are included in the dict\n",
            "total_samples:  7684\n",
            "num_classes:  10\n",
            "max_of_all_classes:  958\n",
            "multiplying_factor:  1.2467464862051016\n",
            "Epoch 1/3\n",
            "97/98 [============================>.] - ETA: 0s - loss: 1.0428 - acc: 0.8631\n",
            "Epoch 00001: val_acc did not improve from 0.78810\n",
            "98/98 [==============================] - 26s 265ms/step - loss: 1.0430 - acc: 0.8631 - val_loss: 1.1757 - val_acc: 0.7718\n",
            "Epoch 2/3\n",
            "97/98 [============================>.] - ETA: 0s - loss: 0.9679 - acc: 0.8878\n",
            "Epoch 00002: val_acc did not improve from 0.78810\n",
            "98/98 [==============================] - 25s 258ms/step - loss: 0.9684 - acc: 0.8876 - val_loss: 1.2361 - val_acc: 0.7653\n",
            "Epoch 3/3\n",
            "97/98 [============================>.] - ETA: 0s - loss: 0.8650 - acc: 0.9127\n",
            "Epoch 00003: val_acc improved from 0.78810 to 0.81830, saving model to /content/drive/My Drive/keras_improved_assignment14_3_best.h5\n",
            "98/98 [==============================] - 26s 267ms/step - loss: 0.8650 - acc: 0.9125 - val_loss: 1.0585 - val_acc: 0.8183\n",
            "WARNING: dict passed is NOT of length 200 - meaning not all 200 classes are included in the dict\n",
            "total_samples:  8183\n",
            "num_classes:  10\n",
            "max_of_all_classes:  915\n",
            "multiplying_factor:  1.1181718196260542\n",
            "Epoch 1/3\n",
            "97/98 [============================>.] - ETA: 0s - loss: 0.7268 - acc: 0.9357\n",
            "Epoch 00001: val_acc improved from 0.81830 to 0.82240, saving model to /content/drive/My Drive/keras_improved_assignment14_3_best.h5\n",
            "98/98 [==============================] - 27s 278ms/step - loss: 0.7267 - acc: 0.9356 - val_loss: 1.0435 - val_acc: 0.8224\n",
            "Epoch 2/3\n",
            "97/98 [============================>.] - ETA: 0s - loss: 0.6412 - acc: 0.9510\n",
            "Epoch 00002: val_acc improved from 0.82240 to 0.83970, saving model to /content/drive/My Drive/keras_improved_assignment14_3_best.h5\n",
            "98/98 [==============================] - 26s 268ms/step - loss: 0.6412 - acc: 0.9508 - val_loss: 0.9519 - val_acc: 0.8397\n",
            "Epoch 3/3\n",
            "97/98 [============================>.] - ETA: 0s - loss: 0.5745 - acc: 0.9637\n",
            "Epoch 00003: val_acc improved from 0.83970 to 0.85880, saving model to /content/drive/My Drive/keras_improved_assignment14_3_best.h5\n",
            "98/98 [==============================] - 27s 272ms/step - loss: 0.5749 - acc: 0.9636 - val_loss: 0.8917 - val_acc: 0.8588\n",
            "Epoch 1/4\n",
            "97/98 [============================>.] - ETA: 0s - loss: 0.5252 - acc: 0.9721\n",
            "Epoch 00001: val_acc did not improve from 0.85880\n",
            "98/98 [==============================] - 27s 274ms/step - loss: 0.5248 - acc: 0.9721 - val_loss: 0.9125 - val_acc: 0.8554\n",
            "Epoch 2/4\n",
            "97/98 [============================>.] - ETA: 0s - loss: 0.4673 - acc: 0.9836\n",
            "Epoch 00002: val_acc improved from 0.85880 to 0.87300, saving model to /content/drive/My Drive/keras_improved_assignment14_3_best.h5\n",
            "98/98 [==============================] - 27s 272ms/step - loss: 0.4670 - acc: 0.9837 - val_loss: 0.8580 - val_acc: 0.8730\n",
            "Epoch 3/4\n",
            "97/98 [============================>.] - ETA: 0s - loss: 0.4219 - acc: 0.9908\n",
            "Epoch 00003: val_acc improved from 0.87300 to 0.87790, saving model to /content/drive/My Drive/keras_improved_assignment14_3_best.h5\n",
            "98/98 [==============================] - 27s 279ms/step - loss: 0.4220 - acc: 0.9907 - val_loss: 0.8533 - val_acc: 0.8779\n",
            "Epoch 4/4\n",
            "97/98 [============================>.] - ETA: 0s - loss: 0.3950 - acc: 0.9956\n",
            "Epoch 00004: val_acc improved from 0.87790 to 0.88780, saving model to /content/drive/My Drive/keras_improved_assignment14_3_best.h5\n",
            "98/98 [==============================] - 27s 278ms/step - loss: 0.3948 - acc: 0.9956 - val_loss: 0.8188 - val_acc: 0.8878\n",
            "Model took 546.91 seconds to train\n"
          ],
          "name": "stdout"
        }
      ]
    },
    {
      "cell_type": "markdown",
      "metadata": {
        "id": "EJJNcBevhZIT",
        "colab_type": "text"
      },
      "source": [
        "## Observation:\n",
        "\n",
        " "
      ]
    }
  ]
}